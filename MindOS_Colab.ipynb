{
  "nbformat": 4,
  "nbformat_minor": 0,
  "metadata": {
    "colab": {
      "provenance": [],
      "authorship_tag": "ABX9TyM54/AXZMjdMsXP0m7GOx3e",
      "include_colab_link": true
    },
    "kernelspec": {
      "name": "python3",
      "display_name": "Python 3"
    },
    "language_info": {
      "name": "python"
    }
  },
  "cells": [
    {
      "cell_type": "markdown",
      "metadata": {
        "id": "view-in-github",
        "colab_type": "text"
      },
      "source": [
        "<a href=\"https://colab.research.google.com/github/devansh-29-glitch/mindos/blob/main/MindOS_Colab.ipynb\" target=\"_parent\"><img src=\"https://colab.research.google.com/assets/colab-badge.svg\" alt=\"Open In Colab\"/></a>"
      ]
    },
    {
      "cell_type": "code",
      "execution_count": null,
      "metadata": {
        "colab": {
          "base_uri": "https://localhost:8080/"
        },
        "id": "m7WBoGKl_zwF",
        "outputId": "acdbd27e-879c-41b3-bca1-c9437dbb675b"
      },
      "outputs": [
        {
          "output_type": "stream",
          "name": "stdout",
          "text": [
            "Requirement already satisfied: rich in /usr/local/lib/python3.12/dist-packages (13.9.4)\n",
            "Requirement already satisfied: tqdm in /usr/local/lib/python3.12/dist-packages (4.67.1)\n",
            "Requirement already satisfied: markdown-it-py>=2.2.0 in /usr/local/lib/python3.12/dist-packages (from rich) (4.0.0)\n",
            "Requirement already satisfied: pygments<3.0.0,>=2.13.0 in /usr/local/lib/python3.12/dist-packages (from rich) (2.19.2)\n",
            "Requirement already satisfied: mdurl~=0.1 in /usr/local/lib/python3.12/dist-packages (from markdown-it-py>=2.2.0->rich) (0.1.2)\n"
          ]
        }
      ],
      "source": [
        "!pip install rich tqdm\n",
        "import os, sys, time, threading, queue, random, json"
      ]
    },
    {
      "cell_type": "code",
      "source": [
        "class Message:\n",
        "    def __init__(self, topic, payload=None, source=None):\n",
        "        self.topic = topic\n",
        "        self.payload = payload\n",
        "        self.source = source\n",
        "\n",
        "class NeuralBus:\n",
        "    def __init__(self):\n",
        "        self.subscribers = {}\n",
        "\n",
        "    def subscribe(self, topic):\n",
        "        q = queue.Queue()\n",
        "        self.subscribers.setdefault(topic, []).append(q)\n",
        "        return q\n",
        "\n",
        "    def publish(self, msg):\n",
        "        for q in self.subscribers.get(msg.topic, []):\n",
        "            q.put(msg)\n",
        "\n",
        "# Shared topics\n",
        "class topics:\n",
        "    TELEMETRY_HEARTBEAT = \"telemetry.heartbeat\"\n",
        "    INTERNAL_THOUGHT = \"internal.thought\""
      ],
      "metadata": {
        "id": "HIA7xzcI_4PA"
      },
      "execution_count": null,
      "outputs": []
    },
    {
      "cell_type": "code",
      "source": [
        "from datetime import datetime\n",
        "\n",
        "class BaseModule(threading.Thread):\n",
        "    HEARTBEAT_EVERY = 2.0\n",
        "\n",
        "    def __init__(self, bus, name):\n",
        "        super().__init__(daemon=True)\n",
        "        self.name = name\n",
        "        self.bus = bus\n",
        "        # ✅ IMPORTANT: Call Event() with parentheses\n",
        "        self._should_stop = threading.Event()\n",
        "        self._inbox = bus.subscribe(topics.INTERNAL_THOUGHT)\n",
        "\n",
        "    def publish(self, topic, payload):\n",
        "        self.bus.publish(Message(topic=topic, payload=payload, source=self.name))\n",
        "\n",
        "    def run(self):\n",
        "        print(f\"[{datetime.now().strftime('%H:%M:%S')}] {self.name} starting...\")\n",
        "        # ✅ use .is_set() to check the event status\n",
        "        while not self._should_stop.is_set():\n",
        "            self.publish(topics.TELEMETRY_HEARTBEAT, {\"module\": self.name, \"ts\": time.time()})\n",
        "            time.sleep(self.HEARTBEAT_EVERY)\n",
        "        print(f\"[{datetime.now().strftime('%H:%M:%S')}] {self.name} stopped.\")\n",
        "\n",
        "    def stop(self):\n",
        "        # ✅ Trigger the event to stop the loop\n",
        "        self._should_stop.set()\n"
      ],
      "metadata": {
        "id": "CBG4RGB2_5-U"
      },
      "execution_count": null,
      "outputs": []
    },
    {
      "cell_type": "code",
      "source": [
        "class Perception(BaseModule):\n",
        "    def run(self):\n",
        "        print(f\"{self.name} sensing environment...\")\n",
        "        time.sleep(1.5)\n",
        "        self.publish(topics.INTERNAL_THOUGHT, \"Perceived: external stimulus\")\n",
        "        super().run()\n",
        "\n",
        "class Memory(BaseModule):\n",
        "    def run(self):\n",
        "        q = self.bus.subscribe(topics.INTERNAL_THOUGHT)\n",
        "        while not self._should_stop.is_set():\n",
        "            try:\n",
        "                msg = q.get(timeout=1)\n",
        "                print(f\"{self.name} encoding memory →\", msg.payload)\n",
        "            except queue.Empty:\n",
        "                pass\n",
        "        super().run()\n",
        "\n",
        "class Reasoning(BaseModule):\n",
        "    def run(self):\n",
        "        q = self.bus.subscribe(topics.INTERNAL_THOUGHT)\n",
        "        while not self._should_stop.is_set():\n",
        "            try:\n",
        "                msg = q.get(timeout=1)\n",
        "                idea = f\"Inferred meaning of '{msg.payload}'\"\n",
        "                print(f\"{self.name} thinking → {idea}\")\n",
        "            except queue.Empty:\n",
        "                pass\n",
        "        super().run()\n",
        "\n",
        "class Emotion(BaseModule):\n",
        "    def run(self):\n",
        "        while not self._should_stop.is_set():\n",
        "            mood = random.choice([\"calm\", \"curious\", \"focused\", \"tense\"])\n",
        "            print(f\"{self.name} feels {mood}\")\n",
        "            time.sleep(2.5)\n",
        "        super().run()\n",
        "\n",
        "class Action(BaseModule):\n",
        "    def run(self):\n",
        "        while not self._should_stop.is_set():\n",
        "            act = random.choice([\"observe\", \"store memory\", \"analyze\", \"react\"])\n",
        "            print(f\"{self.name} executes: {act}\")\n",
        "            time.sleep(2.0)\n",
        "        super().run()\n"
      ],
      "metadata": {
        "id": "tU1Qs4tr_83A"
      },
      "execution_count": null,
      "outputs": []
    },
    {
      "cell_type": "code",
      "source": [
        "class Kernel:\n",
        "    def __init__(self):\n",
        "        self.bus = NeuralBus()\n",
        "        self.modules = [\n",
        "            Perception(self.bus, \"Perception\"),\n",
        "            Memory(self.bus, \"Memory\"),\n",
        "            Reasoning(self.bus, \"Reasoning\"),\n",
        "            Emotion(self.bus, \"Emotion\"),\n",
        "            Action(self.bus, \"Action\")\n",
        "        ]\n",
        "\n",
        "    def boot(self):\n",
        "        print(\"────────────────────────────────────────── MindOS Booting ──────────────────────────────────────────\")\n",
        "        for m in self.modules:\n",
        "            m.start()\n",
        "        print(\"All modules initialized.\\n\")\n",
        "\n",
        "    def shutdown(self):\n",
        "        print(\"\\n────────────────────────────────────────── MindOS Shutdown ──────────────────────────────────────────\")\n",
        "        for m in self.modules: m.stop()\n",
        "        for m in self.modules: m.join()\n",
        "        print(\"All modules stopped. MindOS offline.\")\n"
      ],
      "metadata": {
        "id": "E67dYqKoAA6p"
      },
      "execution_count": null,
      "outputs": []
    },
    {
      "cell_type": "code",
      "source": [
        "kernel = Kernel()\n",
        "kernel.boot()\n",
        "\n",
        "print(\"\\n🧠 Synthetic cognition running...\\n\")\n",
        "time.sleep(10)  # run for 10 seconds\n",
        "\n",
        "kernel.shutdown()\n"
      ],
      "metadata": {
        "colab": {
          "base_uri": "https://localhost:8080/"
        },
        "id": "jkCkOmUFAD5U",
        "outputId": "e754457b-a767-4cba-f949-318d781285d0"
      },
      "execution_count": null,
      "outputs": [
        {
          "output_type": "stream",
          "name": "stdout",
          "text": [
            "────────────────────────────────────────── MindOS Booting ──────────────────────────────────────────\n",
            "Perception sensing environment...\n",
            "Emotion feels focused\n",
            "Action executes: store memory\n",
            "All modules initialized.\n",
            "\n",
            "\n",
            "🧠 Synthetic cognition running...\n",
            "\n",
            "[05:00:49] Perception starting...\n",
            "Memory encoding memory → Perceived: external stimulus\n",
            "Reasoning thinking → Inferred meaning of 'Perceived: external stimulus'\n",
            "Action executes: react\n",
            "Emotion feels focused\n",
            "Action executes: store memory\n",
            "Emotion feels curious\n",
            "Action executes: observe\n",
            "Emotion feels tense\n",
            "Action executes: store memory\n",
            "\n",
            "────────────────────────────────────────── MindOS Shutdown ──────────────────────────────────────────\n",
            "[05:00:57] Emotion starting...\n",
            "[05:00:57] Emotion stopped.\n",
            "[05:00:57] Action starting...\n",
            "[05:00:57] Action stopped.\n",
            "[05:00:58] Memory starting...\n",
            "[05:00:58] Memory stopped.\n",
            "[05:00:58] Reasoning starting...\n",
            "[05:00:58] Reasoning stopped.\n",
            "[05:00:59] Perception stopped.\n",
            "All modules stopped. MindOS offline.\n"
          ]
        }
      ]
    },
    {
      "cell_type": "code",
      "source": [
        "print(\"\\n✅ MindOS demo completed.\")\n",
        "print(\"This lightweight kernel simulated perception → memory → reasoning → emotion → action loops in real time.\")\n",
        "print(\"Each module ran as a concurrent thread communicating through the neural bus —\")\n",
        "print(\"an architectural model of predictive coding and distributed cognition.\")\n"
      ],
      "metadata": {
        "colab": {
          "base_uri": "https://localhost:8080/"
        },
        "id": "eHbmXdiCAHA9",
        "outputId": "a3b276f0-70e5-4037-aa06-20685acf9a21"
      },
      "execution_count": null,
      "outputs": [
        {
          "output_type": "stream",
          "name": "stdout",
          "text": [
            "\n",
            "✅ MindOS demo completed.\n",
            "This lightweight kernel simulated perception → memory → reasoning → emotion → action loops in real time.\n",
            "Each module ran as a concurrent thread communicating through the neural bus —\n",
            "an architectural model of predictive coding and distributed cognition.\n"
          ]
        }
      ]
    }
  ]
}