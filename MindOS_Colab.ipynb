{
 "cells": [
  {
   "cell_type": "code",
   "execution_count": null,
   "id": "bc21d97a",
   "metadata": {
    "vscode": {
     "languageId": "plaintext"
    }
   },
   "outputs": [],
   "source": [
    "!pip install rich tqdm\n",
    "import os, sys, time, threading, queue, random, json"
   ]
  },
  {
   "cell_type": "code",
   "execution_count": null,
   "id": "9ed08e38",
   "metadata": {
    "vscode": {
     "languageId": "plaintext"
    }
   },
   "outputs": [],
   "source": [
    "class Message:\n",
    "    def __init__(self, topic, payload=None, source=None):\n",
    "        self.topic = topic\n",
    "        self.payload = payload\n",
    "        self.source = source\n",
    "\n",
    "class NeuralBus:\n",
    "    def __init__(self):\n",
    "        self.subscribers = {}\n",
    "\n",
    "    def subscribe(self, topic):\n",
    "        q = queue.Queue()\n",
    "        self.subscribers.setdefault(topic, []).append(q)\n",
    "        return q\n",
    "\n",
    "    def publish(self, msg):\n",
    "        for q in self.subscribers.get(msg.topic, []):\n",
    "            q.put(msg)\n",
    "\n",
    "# Shared topics\n",
    "class topics:\n",
    "    TELEMETRY_HEARTBEAT = \"telemetry.heartbeat\"\n",
    "    INTERNAL_THOUGHT = \"internal.thought\""
   ]
  },
  {
   "cell_type": "code",
   "execution_count": null,
   "id": "fd192e76",
   "metadata": {
    "vscode": {
     "languageId": "plaintext"
    }
   },
   "outputs": [],
   "source": [
    "from datetime import datetime\n",
    "\n",
    "class BaseModule(threading.Thread):\n",
    "    HEARTBEAT_EVERY = 2.0\n",
    "\n",
    "    def __init__(self, bus, name):\n",
    "        super().__init__(daemon=True)\n",
    "        self.name = name\n",
    "        self.bus = bus\n",
    "        # ✅ IMPORTANT: Call Event() with parentheses\n",
    "        self._should_stop = threading.Event()\n",
    "        self._inbox = bus.subscribe(topics.INTERNAL_THOUGHT)\n",
    "\n",
    "    def publish(self, topic, payload):\n",
    "        self.bus.publish(Message(topic=topic, payload=payload, source=self.name))\n",
    "\n",
    "    def run(self):\n",
    "        print(f\"[{datetime.now().strftime('%H:%M:%S')}] {self.name} starting...\")\n",
    "        # ✅ use .is_set() to check the event status\n",
    "        while not self._should_stop.is_set():\n",
    "            self.publish(topics.TELEMETRY_HEARTBEAT, {\"module\": self.name, \"ts\": time.time()})\n",
    "            time.sleep(self.HEARTBEAT_EVERY)\n",
    "        print(f\"[{datetime.now().strftime('%H:%M:%S')}] {self.name} stopped.\")\n",
    "\n",
    "    def stop(self):\n",
    "        # ✅ Trigger the event to stop the loop\n",
    "        self._should_stop.set()\n"
   ]
  },
  {
   "cell_type": "code",
   "execution_count": null,
   "id": "83d789b2",
   "metadata": {
    "vscode": {
     "languageId": "plaintext"
    }
   },
   "outputs": [],
   "source": [
    "class Perception(BaseModule):\n",
    "    def run(self):\n",
    "        print(f\"{self.name} sensing environment...\")\n",
    "        time.sleep(1.5)\n",
    "        self.publish(topics.INTERNAL_THOUGHT, \"Perceived: external stimulus\")\n",
    "        super().run()\n",
    "\n",
    "class Memory(BaseModule):\n",
    "    def run(self):\n",
    "        q = self.bus.subscribe(topics.INTERNAL_THOUGHT)\n",
    "        while not self._should_stop.is_set():\n",
    "            try:\n",
    "                msg = q.get(timeout=1)\n",
    "                print(f\"{self.name} encoding memory →\", msg.payload)\n",
    "            except queue.Empty:\n",
    "                pass\n",
    "        super().run()\n",
    "\n",
    "class Reasoning(BaseModule):\n",
    "    def run(self):\n",
    "        q = self.bus.subscribe(topics.INTERNAL_THOUGHT)\n",
    "        while not self._should_stop.is_set():\n",
    "            try:\n",
    "                msg = q.get(timeout=1)\n",
    "                idea = f\"Inferred meaning of '{msg.payload}'\"\n",
    "                print(f\"{self.name} thinking → {idea}\")\n",
    "            except queue.Empty:\n",
    "                pass\n",
    "        super().run()\n",
    "\n",
    "class Emotion(BaseModule):\n",
    "    def run(self):\n",
    "        while not self._should_stop.is_set():\n",
    "            mood = random.choice([\"calm\", \"curious\", \"focused\", \"tense\"])\n",
    "            print(f\"{self.name} feels {mood}\")\n",
    "            time.sleep(2.5)\n",
    "        super().run()\n",
    "\n",
    "class Action(BaseModule):\n",
    "    def run(self):\n",
    "        while not self._should_stop.is_set():\n",
    "            act = random.choice([\"observe\", \"store memory\", \"analyze\", \"react\"])\n",
    "            print(f\"{self.name} executes: {act}\")\n",
    "            time.sleep(2.0)\n",
    "        super().run()\n"
   ]
  },
  {
   "cell_type": "code",
   "execution_count": null,
   "id": "286b6569",
   "metadata": {
    "vscode": {
     "languageId": "plaintext"
    }
   },
   "outputs": [],
   "source": [
    "class Kernel:\n",
    "    def __init__(self):\n",
    "        self.bus = NeuralBus()\n",
    "        self.modules = [\n",
    "            Perception(self.bus, \"Perception\"),\n",
    "            Memory(self.bus, \"Memory\"),\n",
    "            Reasoning(self.bus, \"Reasoning\"),\n",
    "            Emotion(self.bus, \"Emotion\"),\n",
    "            Action(self.bus, \"Action\")\n",
    "        ]\n",
    "\n",
    "    def boot(self):\n",
    "        print(\"────────────────────────────────────────── MindOS Booting ──────────────────────────────────────────\")\n",
    "        for m in self.modules:\n",
    "            m.start()\n",
    "        print(\"All modules initialized.\\n\")\n",
    "\n",
    "    def shutdown(self):\n",
    "        print(\"\\n────────────────────────────────────────── MindOS Shutdown ──────────────────────────────────────────\")\n",
    "        for m in self.modules: m.stop()\n",
    "        for m in self.modules: m.join()\n",
    "        print(\"All modules stopped. MindOS offline.\")\n"
   ]
  },
  {
   "cell_type": "code",
   "execution_count": null,
   "id": "55c1a5f7",
   "metadata": {
    "vscode": {
     "languageId": "plaintext"
    }
   },
   "outputs": [],
   "source": [
    "kernel = Kernel()\n",
    "kernel.boot()\n",
    "\n",
    "print(\"\\n🧠 Synthetic cognition running...\\n\")\n",
    "time.sleep(10)  # run for 10 seconds\n",
    "\n",
    "kernel.shutdown()\n"
   ]
  },
  {
   "cell_type": "code",
   "execution_count": null,
   "id": "0f38feb7",
   "metadata": {
    "vscode": {
     "languageId": "plaintext"
    }
   },
   "outputs": [],
   "source": [
    "print(\"\\n✅ MindOS demo completed.\")\n",
    "print(\"This lightweight kernel simulated perception → memory → reasoning → emotion → action loops in real time.\")\n",
    "print(\"Each module ran as a concurrent thread communicating through the neural bus —\")\n",
    "print(\"an architectural model of predictive coding and distributed cognition.\")"
   ]
  }
 ],
 "metadata": {
  "language_info": {
   "name": "python"
  }
 },
 "nbformat": 4,
 "nbformat_minor": 5
}
